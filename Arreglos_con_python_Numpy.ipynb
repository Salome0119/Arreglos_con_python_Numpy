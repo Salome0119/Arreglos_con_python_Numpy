{
  "nbformat": 4,
  "nbformat_minor": 0,
  "metadata": {
    "colab": {
      "provenance": [],
      "toc_visible": true,
      "authorship_tag": "ABX9TyMM+iGFGP/CtLP400NkBscv",
      "include_colab_link": true
    },
    "kernelspec": {
      "name": "python3",
      "display_name": "Python 3"
    },
    "language_info": {
      "name": "python"
    }
  },
  "cells": [
    {
      "cell_type": "markdown",
      "metadata": {
        "id": "view-in-github",
        "colab_type": "text"
      },
      "source": [
        "<a href=\"https://colab.research.google.com/github/Salome0119/Arreglos_con_python_Numpy/blob/main/Arreglos_con_python_Numpy.ipynb\" target=\"_parent\"><img src=\"https://colab.research.google.com/assets/colab-badge.svg\" alt=\"Open In Colab\"/></a>"
      ]
    },
    {
      "cell_type": "code",
      "execution_count": null,
      "metadata": {
        "id": "TXiz05SpC2FG"
      },
      "outputs": [],
      "source": []
    },
    {
      "cell_type": "markdown",
      "source": [
        "Ejemplo numpy"
      ],
      "metadata": {
        "id": "BcjLZJ8LC3n1"
      }
    },
    {
      "cell_type": "code",
      "source": [
        "import numpy as np\n",
        "#numpy es una libreria para trabajar con arreglos, matrices y vectores\n",
        "#primer ejemplo de uso de numpy con vectores\n",
        "\n",
        "#creamos un vector de 10 elementos\n",
        "vector=np.array([1,2,3,4,5,6,7,8,9,10])\n",
        "#Imprimir el vector\n",
        "print(\"vector original: \", vector)"
      ],
      "metadata": {
        "colab": {
          "base_uri": "https://localhost:8080/"
        },
        "id": "z_grG7HXC7GM",
        "outputId": "7cd24ddf-8a4b-4183-e698-98c30e1d2341"
      },
      "execution_count": 1,
      "outputs": [
        {
          "output_type": "stream",
          "name": "stdout",
          "text": [
            "vector original:  [ 1  2  3  4  5  6  7  8  9 10]\n"
          ]
        }
      ]
    }
  ]
}